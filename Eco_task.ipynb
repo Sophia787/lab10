{
 "cells": [
  {
   "cell_type": "markdown",
   "metadata": {
    "collapsed": false
   },
   "source": [
    "# Задание 10.\n",
    "\n",
    "Вам предоставлен набор данных по качеству воздуха в китайских городах в виде csv файлов.\n",
    "Основная метрика, которая показывает качество воздуха - PM25(<a href='https://www.ncbi.nlm.nih.gov/pmc/articles/PMC4740125/'>подробнее о PM25</a>), указана в колонках, которые начинаются на PM_.\n",
    "Остальные столбцы содержат либо данные о времени, в которое были произведены измерения, либо данные о погоде в этот момент. DEWP - точка росы, HUMI - влажность, PRES - давление, TEMP - температура, cbwd - направление ветра, Iws - его скорость, precipation - осадки, Iprec - накопленные осадки.\n",
    "\n",
    "Для выполнения задания необходимо ответить на вопросы по данным, заполнив ячейки ноутбука. Сам ноутбук необходимо выложить в виде отдельного репозитория на github. Ссылку для клонирования репозитория необходимо приложить в решение задания."
   ]
  },
  {
   "cell_type": "markdown",
   "metadata": {
    "collapsed": false
   },
   "source": [
    "## 1. Загрузите в виде DataFrame набор данных по качеству воздуха Пекина\n",
    "Ссылка на набор данных: https://disk.yandex.ru/d/1UKJoV1ULW1NLQ"
   ]
  },
  {
   "cell_type": "code",
   "execution_count": 1,
   "metadata": {
    "collapsed": true
   },
   "outputs": [],
   "source": [
    "import pandas as pd\n",
    "df = pd.read_csv('BeijingPM20100101_20151231.csv')\n"
   ]
  },
  {
   "cell_type": "markdown",
   "metadata": {
    "collapsed": false
   },
   "source": [
    "## 2. Сколько всего строк находится в наборе данных?"
   ]
  },
  {
   "cell_type": "code",
   "execution_count": 3,
   "metadata": {
    "collapsed": false,
    "pycharm": {
     "name": "#%%\n"
    }
   },
   "outputs": [
    {
     "name": "stdout",
     "output_type": "stream",
     "text": [
      "52584\n"
     ]
    }
   ],
   "source": [
    "print(df.shape[0])\n"
   ]
  },
  {
   "cell_type": "markdown",
   "metadata": {
    "collapsed": false
   },
   "source": [
    "## 3. Сколько измерений уровня загрязнения воздуха находится в наборе данных?"
   ]
  },
  {
   "cell_type": "code",
   "execution_count": 4,
   "metadata": {
    "collapsed": false,
    "pycharm": {
     "name": "#%%\n"
    }
   },
   "outputs": [
    {
     "name": "stdout",
     "output_type": "stream",
     "text": [
      "52584\n"
     ]
    }
   ],
   "source": [
    "print(df.No.count())\n"
   ]
  },
  {
   "cell_type": "markdown",
   "metadata": {
    "collapsed": false
   },
   "source": [
    "## 4. Введите столбец среднего качества воздуха PM_mean с усреднением показаний со всех станций слежения."
   ]
  },
  {
   "cell_type": "code",
   "execution_count": 22,
   "metadata": {
    "collapsed": false,
    "pycharm": {
     "name": "#%%\n"
    }
   },
   "outputs": [
    {
     "name": "stdout",
     "output_type": "stream",
     "text": [
      "PM_mean\n",
      "0               NaN\n",
      "1               NaN\n",
      "2               NaN\n",
      "3               NaN\n",
      "4               NaN\n",
      "            ...    \n",
      "52579    139.666667\n",
      "52580    168.333333\n",
      "52581    199.333333\n",
      "52582    222.333333\n",
      "52583           NaN\n",
      "Length: 52584, dtype: float64\n"
     ]
    }
   ],
   "source": [
    "df_PM_mean = pd.DataFrame({'Dongsi': df.PM_Dongsi,\n",
    "                      'Dongsihuan': df.PM_Dongsihuan,\n",
    "                      'Nongzhanguan': df.PM_Nongzhanguan,\n",
    "                      }).mean(axis=1)\n",
    "print('PM_mean')\n",
    "print(df_PM_mean)\n"
   ]
  },
  {
   "cell_type": "markdown",
   "metadata": {
    "collapsed": false
   },
   "source": [
    "## 5. Какое направление ветра преобладает в Пекине?"
   ]
  },
  {
   "cell_type": "code",
   "execution_count": 6,
   "metadata": {
    "collapsed": false,
    "pycharm": {
     "name": "#%%\n"
    }
   },
   "outputs": [
    {
     "name": "stdout",
     "output_type": "stream",
     "text": [
      "SE\n"
     ]
    }
   ],
   "source": [
    "print(df.cbwd.mode()[0])\n"
   ]
  },
  {
   "cell_type": "markdown",
   "metadata": {
    "collapsed": false
   },
   "source": [
    "## 6. В какой день качество воздуха является наихудшим(самая большая концентрация частиц)? Вывести дату в типе данных datetime стандартной библиотеки Python."
   ]
  },
  {
   "cell_type": "code",
   "execution_count": 35,
   "metadata": {
    "collapsed": false,
    "pycharm": {
     "name": "#%%\n"
    }
   },
   "outputs": [
    {
     "name": "stdout",
     "output_type": "stream",
     "text": [
      "2014-02-14 23:00:00\n"
     ]
    }
   ],
   "source": [
    "str_max = df_PM_mean[df_PM_mean == df_PM_mean.max()]\n",
    "index_max = str_max.index[0]\n",
    "df_date_max = pd.DataFrame({\n",
    "    'year': [df.year[index_max]],\n",
    "    'month': [df.month[index_max]],\n",
    "    'day': [df.day[index_max]],\n",
    "    'hour': [df.hour[index_max]]\n",
    "})\n",
    "print(pd.to_datetime(df_date_max)[0])\n"
   ]
  },
  {
   "cell_type": "markdown",
   "metadata": {
    "collapsed": false
   },
   "source": [
    "## 7. Какой из сезонов в Пекине в среднем наименее неблагоприятный для легких за последние 2 года наблюдений?"
   ]
  },
  {
   "cell_type": "code",
   "execution_count": 127,
   "metadata": {
    "collapsed": false,
    "pycharm": {
     "name": "#%%\n"
    }
   },
   "outputs": [
    {
     "name": "stdout",
     "output_type": "stream",
     "text": [
      "4.0\n"
     ]
    }
   ],
   "source": [
    "df_season_2lastyear_mean = df.where(df.year.max() < df.year + 2).groupby('season').mean()\n",
    "season_number = df_season_2lastyear_mean.where(df_season_2lastyear_mean.PM_Dongsi + df_season_2lastyear_mean.PM_Dongsihuan + df_season_2lastyear_mean.PM_Nongzhanguan ==\n",
    "                               (df_season_2lastyear_mean.PM_Dongsi + df_season_2lastyear_mean.PM_Dongsihuan + df_season_2lastyear_mean.PM_Nongzhanguan).max()).sort_values('No').index[0]\n",
    "print(season_number)"
   ]
  },
  {
   "cell_type": "markdown",
   "metadata": {
    "collapsed": false
   },
   "source": [
    "## 8. Коррелирует ли влажность с качеством воздуха?\n",
    "Можно воспользоваться корреляцией Пирсона из numpy, а также встроенными функциями Pandas."
   ]
  },
  {
   "cell_type": "code",
   "execution_count": 32,
   "metadata": {
    "collapsed": false,
    "pycharm": {
     "name": "#%%\n"
    }
   },
   "outputs": [
    {
     "name": "stdout",
     "output_type": "stream",
     "text": [
      "0.39000021743100094\n"
     ]
    }
   ],
   "source": [
    "# Чем ближе к 1, тем сильнее положительная корреляция.\n",
    "print(df['HUMI'].corr(df_PM_mean))\n"
   ]
  },
  {
   "cell_type": "markdown",
   "metadata": {
    "collapsed": false
   },
   "source": [
    "## 9. Какой из сезонов в Пекине самый дождливый(в среднем по накоплению осадков)?"
   ]
  },
  {
   "cell_type": "code",
   "execution_count": 162,
   "metadata": {
    "collapsed": false,
    "pycharm": {
     "name": "#%%\n"
    }
   },
   "outputs": [
    {
     "name": "stdout",
     "output_type": "stream",
     "text": [
      "3\n"
     ]
    }
   ],
   "source": [
    "df_Iprec_season_mean_sort = df.groupby(\n",
    "    'season').mean().sort_values('Iprec', ascending=False)\n",
    "print(df_Iprec_season_mean_sort.Iprec.index[0])\n"
   ]
  },
  {
   "cell_type": "markdown",
   "metadata": {
    "collapsed": false
   },
   "source": [
    "## 10. Становится ли качество воздуха во время дождя лучше, чем оно было сразу перед дождем?"
   ]
  },
  {
   "cell_type": "code",
   "execution_count": 13,
   "metadata": {
    "collapsed": false,
    "pycharm": {
     "name": "#%%\n"
    }
   },
   "outputs": [
    {
     "name": "stdout",
     "output_type": "stream",
     "text": [
      "False\n"
     ]
    }
   ],
   "source": [
    "# кол-во значений когда качество воздуха лучше во время дождя(есть осадки)\n",
    "during_rain = df.where((df.precipitation > 0) & (df.precipitation.shift(-1) == 0) & (df.PM_Dongsi.shift(-1) + df.PM_Dongsihuan.shift(-1) + df.PM_Nongzhanguan.shift(-1) <\n",
    "         df.PM_Dongsi + df.PM_Dongsihuan + df.PM_Nongzhanguan))['No'].count()\n",
    "# кол-во значений когда качество воздуха лучше до дождя(нет осадков)\n",
    "before_rain = df.where((df.precipitation > 0) & (df.precipitation.shift(-1) == 0) & (df.PM_Dongsi.shift(-1) + df.PM_Dongsihuan.shift(-1) + df.PM_Nongzhanguan.shift(-1) >\n",
    "         df.PM_Dongsi + df.PM_Dongsihuan + df.PM_Nongzhanguan))['No'].count()\n",
    "print(before_rain < during_rain)"
   ]
  }
 ],
 "metadata": {
  "kernelspec": {
   "display_name": "Python 3",
   "language": "python",
   "name": "python3"
  },
  "language_info": {
   "codemirror_mode": {
    "name": "ipython",
    "version": 3
   },
   "file_extension": ".py",
   "mimetype": "text/x-python",
   "name": "python",
   "nbconvert_exporter": "python",
   "pygments_lexer": "ipython3",
   "version": "3.9.6"
  }
 },
 "nbformat": 4,
 "nbformat_minor": 0
}
